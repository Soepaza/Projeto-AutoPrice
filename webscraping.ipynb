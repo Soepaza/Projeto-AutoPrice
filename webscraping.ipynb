{
 "cells": [
  {
   "cell_type": "code",
   "execution_count": 3,
   "metadata": {},
   "outputs": [],
   "source": [
    "from bs4 import BeautifulSoup\n",
    "import requests\n",
    "import pandas as pd\n",
    "import os"
   ]
  },
  {
   "cell_type": "code",
   "execution_count": 4,
   "metadata": {},
   "outputs": [],
   "source": [
    "url = 'https://books.toscrape.com/'\n",
    "headers = {'User-Agent':'Mozilla/5.0 (Windows NT 10.0; Win64; x64) AppleWebKit/537.36 (KHTML, like Gecko) Chrome/122.0.0.0 Safari/537.36'}"
   ]
  },
  {
   "cell_type": "code",
   "execution_count": 5,
   "metadata": {},
   "outputs": [],
   "source": [
    "page = requests.get(url, headers= headers)"
   ]
  },
  {
   "cell_type": "code",
   "execution_count": 6,
   "metadata": {},
   "outputs": [],
   "source": [
    "soup = BeautifulSoup(page.text, 'html.parser')\n"
   ]
  },
  {
   "cell_type": "code",
   "execution_count": 7,
   "metadata": {},
   "outputs": [],
   "source": [
    "soup.find_all('a')#[54].get('title')\n",
    "titleSoup = soup.find_all('a')\n",
    "        \n",
    "titleList = [title.get('title') for item, title in enumerate(titleSoup) if item >= 54 and item % 2 ==0]\n"
   ]
  },
  {
   "cell_type": "code",
   "execution_count": 8,
   "metadata": {},
   "outputs": [],
   "source": [
    "priceSoup = soup.find_all('p', class_='price_color')\n",
    "\n",
    "priceList = [float(price.string.replace('Â£', '')) for price in priceSoup]"
   ]
  },
  {
   "cell_type": "code",
   "execution_count": 9,
   "metadata": {},
   "outputs": [
    {
     "name": "stdout",
     "output_type": "stream",
     "text": [
      "Titles: ['A Light in the Attic', 'Tipping the Velvet', 'Soumission', 'Sharp Objects', 'Sapiens: A Brief History of Humankind', 'The Requiem Red', 'The Dirty Little Secrets of Getting Your Dream Job', 'The Coming Woman: A Novel Based on the Life of the Infamous Feminist, Victoria Woodhull', 'The Boys in the Boat: Nine Americans and Their Epic Quest for Gold at the 1936 Berlin Olympics', 'The Black Maria', 'Starving Hearts (Triangular Trade Trilogy, #1)', \"Shakespeare's Sonnets\", 'Set Me Free', \"Scott Pilgrim's Precious Little Life (Scott Pilgrim #1)\", 'Rip it Up and Start Again', 'Our Band Could Be Your Life: Scenes from the American Indie Underground, 1981-1991', 'Olio', 'Mesaerion: The Best Science Fiction Stories 1800-1849', 'Libertarianism for Beginners', \"It's Only the Himalayas\"]\n",
      "Prices: [51.77, 53.74, 50.1, 47.82, 54.23, 22.65, 33.34, 17.93, 22.6, 52.15, 13.99, 20.66, 17.46, 52.29, 35.02, 57.25, 23.88, 37.59, 51.33, 45.17]\n"
     ]
    }
   ],
   "source": [
    "print(\"Titles:\", titleList)\n",
    "print(\"Prices:\", priceList)"
   ]
  },
  {
   "cell_type": "code",
   "execution_count": 12,
   "metadata": {},
   "outputs": [
    {
     "name": "stdout",
     "output_type": "stream",
     "text": [
      "                                               Titles  Prices\n",
      "0                                A Light in the Attic   51.77\n",
      "1                                  Tipping the Velvet   53.74\n",
      "2                                          Soumission   50.10\n",
      "3                                       Sharp Objects   47.82\n",
      "4               Sapiens: A Brief History of Humankind   54.23\n",
      "5                                     The Requiem Red   22.65\n",
      "6   The Dirty Little Secrets of Getting Your Dream...   33.34\n",
      "7   The Coming Woman: A Novel Based on the Life of...   17.93\n",
      "8   The Boys in the Boat: Nine Americans and Their...   22.60\n",
      "9                                     The Black Maria   52.15\n",
      "10     Starving Hearts (Triangular Trade Trilogy, #1)   13.99\n",
      "11                              Shakespeare's Sonnets   20.66\n",
      "12                                        Set Me Free   17.46\n",
      "13  Scott Pilgrim's Precious Little Life (Scott Pi...   52.29\n",
      "14                          Rip it Up and Start Again   35.02\n",
      "15  Our Band Could Be Your Life: Scenes from the A...   57.25\n",
      "16                                               Olio   23.88\n",
      "17  Mesaerion: The Best Science Fiction Stories 18...   37.59\n",
      "18                       Libertarianism for Beginners   51.33\n",
      "19                            It's Only the Himalayas   45.17\n"
     ]
    }
   ],
   "source": [
    "bookDict = {\n",
    "    'Titles': titleList,\n",
    "    'Prices': priceList\n",
    "}\n",
    "\n",
    "bookDict = pd.DataFrame(bookDict)\n",
    "print(bookDict)\n",
    "\n",
    "output_path = r'C:\\Users\\Home\\Desktop\\Projetos Hashtag\\Projeto2 - Automaçao Web\\Projeto 2\\PriceBooks.xlsx'\n",
    "\n",
    "bookDict.to_excel(output_path, index=False)\n",
    "\n",
    "\n"
   ]
  }
 ],
 "metadata": {
  "kernelspec": {
   "display_name": "Python 3",
   "language": "python",
   "name": "python3"
  },
  "language_info": {
   "codemirror_mode": {
    "name": "ipython",
    "version": 3
   },
   "file_extension": ".py",
   "mimetype": "text/x-python",
   "name": "python",
   "nbconvert_exporter": "python",
   "pygments_lexer": "ipython3",
   "version": "3.11.3"
  }
 },
 "nbformat": 4,
 "nbformat_minor": 2
}
